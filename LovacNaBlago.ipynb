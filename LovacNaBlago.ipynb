{
 "cells": [
  {
   "cell_type": "markdown",
   "metadata": {},
   "source": [
    "### <div style=\"text-align: left\"> Izradila: Filipa Lovrić </div>\n",
    "# <div style=\"text-align: center\"> Projektni zadatak iz Umjetne Inteligencije </div>\n",
    "## <div style=\"text-align: center\"> Lovac na blago (otvoreni minesweeper) </div>\n",
    "\n"
   ]
  },
  {
   "cell_type": "markdown",
   "metadata": {},
   "source": [
    "## Tekst zadatka:"
   ]
  },
  {
   "cell_type": "markdown",
   "metadata": {},
   "source": [
    "Lovac na blago metalnim je detektorom pronašao novčiće. Nije ih imao vremena iskopati, pa je\n",
    "napravio kartu nalazišta u nadi da je, čak iako je izgubi, nitko neće razumjeti. U poljima koja sadrže\n",
    "brojeve nema novčića, ali ti brojevi ukazuju na to koliko se novčića nalazi u 8 polja koja ih okružuju. U\n",
    "polju se nalazi točno jedan novčić. Otkrijte točan broj i položaj novčića metodama pretraživanja u\n",
    "dubinu i širinu i algoritmom A* s proizvoljno odabranom heuristikom. Usporedite složenost upotrijebljenih metoda."
   ]
  },
  {
   "cell_type": "markdown",
   "metadata": {},
   "source": [
    "#### Korišteni moduli:"
   ]
  },
  {
   "cell_type": "code",
   "execution_count": 1,
   "metadata": {},
   "outputs": [
    {
     "name": "stdout",
     "output_type": "stream",
     "text": [
      "Python version:  3.6.10 |Anaconda, Inc.| (default, May  7 2020, 19:46:08) [MSC v.1916 64 bit (AMD64)]\n",
      "Version info:  sys.version_info(major=3, minor=6, micro=10, releaselevel='final', serial=0)\n"
     ]
    }
   ],
   "source": [
    "import sys\n",
    "print(\"Python version: \", sys.version)\n",
    "print (\"Version info: \", sys.version_info)"
   ]
  },
  {
   "cell_type": "code",
   "execution_count": 2,
   "metadata": {},
   "outputs": [],
   "source": [
    "import copy\n",
    "import matplotlib\n",
    "import matplotlib.pyplot as plt\n",
    "import numpy as np\n",
    "import time\n",
    "\n",
    "from collections import deque\n",
    "from IPython.display import clear_output, display\n",
    "from matplotlib.table import Table\n",
    "from queue import PriorityQueue\n",
    "from typing import Any, Dict, List, Optional, Tuple"
   ]
  },
  {
   "cell_type": "code",
   "execution_count": 3,
   "metadata": {},
   "outputs": [
    {
     "name": "stdout",
     "output_type": "stream",
     "text": [
      "Matplotlib version: 3.2.2, \n",
      "Backend: module://ipykernel.pylab.backend_inline\n"
     ]
    }
   ],
   "source": [
    "print(f\"Matplotlib version: {matplotlib.__version__}, \\nBackend: {matplotlib.get_backend()}\")"
   ]
  },
  {
   "cell_type": "markdown",
   "metadata": {},
   "source": [
    "## 1. Zapis karata:\n",
    "\n",
    "Karte s blagom pohranjujemo u obliku cjelobrojnih matrica.  \n",
    "Brojevi od 0-8 označavaju broj okolnih polja s novčićima.  \n",
    "Broj 9 označava prazno polje, broj 10 označava polje s novčićem, dok broj 11 označava polje na kojemu ne može biti novčić."
   ]
  },
  {
   "cell_type": "code",
   "execution_count": 4,
   "metadata": {},
   "outputs": [],
   "source": [
    "E = 9\n",
    "G = 10\n",
    "CHECKED = 11\n",
    "divider = \"\""
   ]
  },
  {
   "cell_type": "code",
   "execution_count": 5,
   "metadata": {},
   "outputs": [],
   "source": [
    "def get_matrix_example_one():\n",
    "    matrix = \\\n",
    "    [\n",
    "        [E,E,E,E,E,E,2,E,2,E],\n",
    "        [E,0,1,E,E,3,4,E,3,E],\n",
    "        [E,0,E,1,E,E,E,E,4,E],\n",
    "        [E,E,E,E,1,E,E,E,E,2],\n",
    "        [2,E,E,E,E,E,E,3,2,E],\n",
    "        [E,E,4,E,E,E,2,3,E,E],\n",
    "        [2,E,E,0,E,E,E,E,E,E],\n",
    "        [2,E,E,2,1,E,3,4,4,E],\n",
    "        [E,E,E,E,E,E,E,3,E,E],\n",
    "        [E,2,1,2,E,E,3,E,2,E]\n",
    "    ]\n",
    "    return matrix\n",
    "\n",
    "def get_matrix_example_two():\n",
    "    matrix = \\\n",
    "    [\n",
    "        [E,E,E,E,E,E,E,E,E,E],\n",
    "        [0,E,1,E,1,E,E,1,2,1],\n",
    "        [0,E,E,2,E,1,E,0,E,1],\n",
    "        [E,E,E,E,E,1,2,E,3,E],\n",
    "        [1,E,E,3,E,E,E,E,E,E],\n",
    "        [E,E,E,E,1,3,E,3,E,1],\n",
    "        [2,E,2,E,E,E,E,E,E,E],\n",
    "        [E,E,E,E,3,E,3,2,E,E],\n",
    "        [2,E,E,E,6,E,E,3,E,1],\n",
    "        [E,0,E,E,E,E,4,E,E,E]\n",
    "    ]\n",
    "    return matrix"
   ]
  },
  {
   "cell_type": "markdown",
   "metadata": {},
   "source": [
    "## 2. Pomoćne funkcije\n",
    "\n",
    "Za vizualizaciju koristimo _matplotlib.pyplot_ modul s defaultnim jupyterovim _ipykernel.pylab.backend_inline_ backendom.  \n",
    "Karta s blagom prikazuje se u obliku tablice te se za svako polje na karti kreira po jedna čelija."
   ]
  },
  {
   "cell_type": "markdown",
   "metadata": {},
   "source": [
    "### Funkcije korištene za vizualizaciju:\n",
    "\n",
    " *add_cell_to_table*  \n",
    "\n",
    "\n",
    "- Funkcija za dodavanje čelije u tablicu. Ukoliko polje sadrži novčić, pozadinska boja čelije postavlja se u zlatnu boju.\n",
    "\n",
    "\n",
    "*update_matrix_figure* \n",
    "\n",
    "\n",
    "- Funkcija prima matricu. Ažurira trenutno otvoreni plt.axes objekt s tablicom koja predstavlja dohvaćenu matricu. Ukoliko se izvršava real-time vizualizacija, funkcija ispisuje trenutni korak u vizualizaciji.\n",
    "\n",
    "\n",
    "*plot_matrix*  \n",
    "\n",
    "\n",
    "- Funkcija prikazuje dohvaćenu matricu.\n",
    "\n",
    "\n",
    "*with_numbers*\n",
    "\n",
    "\n",
    "- Funkcija prima riješenu matricu i originalnu matricu. Vraća brojeve od 1 do 8 iz originalne matrice u riješenu matricu."
   ]
  },
  {
   "cell_type": "code",
   "execution_count": 6,
   "metadata": {},
   "outputs": [],
   "source": [
    "def add_cell_to_table(x, y, width, height, state, table):\n",
    "    if state == E:\n",
    "        table.add_cell(x, y, width, height, text=\"\")\n",
    "    elif state == G:\n",
    "        table.add_cell(x, y, width, height, facecolor='#FFD700')\n",
    "    elif state == CHECKED:\n",
    "        table.add_cell(x, y, width, height, facecolor='white')\n",
    "    elif 0 <= state <= 8:\n",
    "        table.add_cell(x, y, width, height, text=state, loc='center')\n",
    "        \n",
    "def update_matrix_figure(matrix, fig, ax, step=0, maxsteps=0):\n",
    "    ax.clear()\n",
    "    ax.set_axis_off()\n",
    "    if maxsteps != 0:\n",
    "        ax.set_title('Step: {} / {}'.format(step,maxsteps))\n",
    "    \n",
    "    nrows, ncols = get_matrix_size(matrix)\n",
    "    height, width = 1 / nrows, 1 / ncols\n",
    "    \n",
    "    tb = Table(ax, bbox=[0,0,1,1])\n",
    "    for (x,y), state in np.ndenumerate(matrix):\n",
    "        add_cell_to_table(x, y, width, height, state, tb)  \n",
    "    ax.add_table(tb)\n",
    "    \n",
    "def plot_matrix(matrix: List[List[int]]):\n",
    "    fig = plt.figure(figsize=(5,5), dpi=80)\n",
    "    axes = fig.add_axes([0,0,1,1])\n",
    "    update_matrix_figure(matrix, fig, axes)\n",
    "    plt.show()\n",
    "    plt.close()\n",
    "\n",
    "def with_numbers(matrix: List[List[int]],\n",
    "                 original: List[List[int]]):\n",
    "    for x in range(0, len(original)):\n",
    "        for y in range(0, len(original[x])):\n",
    "            if 0 <= original[x][y] <= 8:\n",
    "                matrix[x][y] = original[x][y]\n",
    "    return matrix"
   ]
  },
  {
   "cell_type": "markdown",
   "metadata": {},
   "source": [
    "### Funkcije korištene u DFS, BFS, A* algoritmima:\n",
    "\n",
    "*get_matrix_size*  \n",
    "\n",
    "\n",
    "- Funkcija prima matricu. Vraća dimenzije matrice u obliku (int, int).\n",
    "\n",
    "\n",
    "*idx_is_in_matrix*\n",
    "\n",
    "\n",
    "- Funkcija prima matricu i indeks (int, int). Vraća True ako se navedeni indeks nalazi unutar dimenzija matrice. U suprotnom, vraća False.\n",
    "\n",
    "\n",
    "\n",
    "*get_neighbour_indexes*  \n",
    "\n",
    "\n",
    "- Funkcija prima indeks (int, int) i dimenzije matrice (int, int). Vraća listu svih indeksa oko navedenog, koji se nalaze unutar dimenzija matrice.\n",
    "\n",
    "\n",
    "*get_field_to_decrement*\n",
    "\n",
    "\n",
    "- Funkcija prima matricu. Nalazi prvo polje u matrici oko kojega se nalazi novčić. Ukoliko takvo polje ne postoji, vraća (-1, -1).\n",
    "\n",
    "\n",
    "*move_checked_around_field*\n",
    "\n",
    "\n",
    "- Funkcija prima matricu i indeks. Na svako mjesto oko navedenog indeksa, gdje je u matrici E (Empty), stavlja CHECKED (polje na kojem ne može biti novčić).\n",
    "\n",
    "\n",
    "*check_if_matrix_correct*\n",
    "\n",
    "\n",
    "- Funkcija prima matricu. Vraća False ukoliko se u matrici nalazi polje s većim brojem okolnih blaga od broja okolnih praznih polja. U suprotnom, vraća True.\n",
    "\n",
    "\n",
    "*insert_gold_in_matrix*\n",
    "\n",
    "\n",
    "- Funkcija prima matricu i poziciju novčića. Funkcija stavlja novčić na navedenu poziciju. Sve brojeve od 1 do 8 oko novčića dekrementira.\n",
    "\n",
    "\n",
    "*count_number_sum*\n",
    "\n",
    "\n",
    "- Funkcija prima matricu i vraća zbroj brojeva od 1 do 8 u matrici. Korištena je kao heuristika u A* algoritmu."
   ]
  },
  {
   "cell_type": "code",
   "execution_count": 7,
   "metadata": {},
   "outputs": [],
   "source": [
    "def get_matrix_size(matrix: List[List[int]]):\n",
    "    return (len(matrix), len(matrix[0]))\n",
    "\n",
    "def idx_is_in_matrix(matrix: List[List[int]],\n",
    "                     idx: Tuple[int, int]):\n",
    "    try:\n",
    "        a = matrix[idx[0], idx[1]]\n",
    "    except IndexError:\n",
    "        return False\n",
    "    return True\n",
    "\n",
    "def get_neighbour_indexes(idx: Tuple[int, int], \n",
    "                          matrix_size: Tuple[int, int]):\n",
    "    return [(x, y) for x in range(idx[0]-1, idx[0]+2) for y in range(idx[1]-1, idx[1]+2) \n",
    "            if (-1 < x < matrix_size[0] and \n",
    "                -1 < y < matrix_size[1] and \n",
    "                (x != idx[0] or y != idx[1]))]\n",
    "\n",
    "def get_field_to_decrement(matrix: List[List[int]]):\n",
    "    for x in range(0, len(matrix)):\n",
    "        for y in range(0, len(matrix[x])):\n",
    "            if 1 <= matrix[x][y] <= 8:\n",
    "                return (x,y)\n",
    "    return (-1,-1)\n",
    "\n",
    "def move_checked_around_field(matrix: List[List[int]], \n",
    "                              index: Tuple[int, int]):\n",
    "    for field in get_neighbour_indexes(index, get_matrix_size(matrix)):\n",
    "        if matrix[field[0]][field[1]] is E:\n",
    "            matrix[field[0]][field[1]] = CHECKED\n",
    "    matrix[index[0]][index[1]] = CHECKED\n",
    "    \n",
    "def check_if_matrix_correct(matrix: List[List[int]]):\n",
    "    for x in range(0, len(matrix)):\n",
    "        for y in range(0,len(matrix[x])):\n",
    "            if 1 <= matrix[x][y] <= 8:\n",
    "                if len([index for index in get_neighbour_indexes((x,y), get_matrix_size(matrix)) if\n",
    "                        matrix[index[0]][index[1]] == E]) < matrix[x][y]:\n",
    "                    return False\n",
    "    return True\n",
    "\n",
    "def insert_gold_in_matrix(matrix: List[List[int]], \n",
    "                          field: Tuple[int, int]):\n",
    "    to_push = copy.deepcopy(matrix)\n",
    "    to_push[field[0]][field[1]] = G\n",
    "    \n",
    "    for field_around_gold in [around for around in get_neighbour_indexes(field, get_matrix_size(to_push)) if\n",
    "                              1 <= to_push[around[0]][around[1]] <= 8]:\n",
    "        to_push[field_around_gold[0]][field_around_gold[1]] -= 1\n",
    "        if to_push[field_around_gold[0]][field_around_gold[1]] == 0:\n",
    "            move_checked_around_field(to_push, field_around_gold)\n",
    "    return to_push\n",
    "\n",
    "def count_number_sum(matrix: List[List[int]]):\n",
    "    count = 0\n",
    "    for row in matrix:\n",
    "        for field in row:\n",
    "            count = count + field if 1 <= field <= 8 else count\n",
    "    return count\n"
   ]
  },
  {
   "cell_type": "markdown",
   "metadata": {},
   "source": [
    "### Pomoćna funkcija za sažeti ispis algoritma:\n",
    "\n",
    "\n",
    "*print_execution_time*\n",
    "\n",
    "\n",
    "- Funkcija prima algoritam i neriješenu matricu. Ispisuje vrijeme i broj koraka potreban za dobivanje rješenja matrice navedenim algoritmom."
   ]
  },
  {
   "cell_type": "code",
   "execution_count": 8,
   "metadata": {},
   "outputs": [],
   "source": [
    "def print_execution_time(algorithm, matrix, example_name=\"example\"):\n",
    "    start_time = time.time()\n",
    "    (steps, throw) = algorithm(matrix)\n",
    "    print(f\"Time to execute {example_name} using {algorithm.__name__}: {round(time.time() - start_time, 3)}s, number of steps: {steps}\")"
   ]
  },
  {
   "cell_type": "markdown",
   "metadata": {},
   "source": [
    "## 3. DFS, BFS i A* algoritmi"
   ]
  },
  {
   "cell_type": "markdown",
   "metadata": {},
   "source": [
    "### DFS\n",
    "\n",
    "\n",
    "DFS algoritam sprema originalnu matricu u stog. Za stog je korištena **python list** struktura. \n",
    "\n",
    "Dok stog nije prazan, DFS algoritam:\n",
    "- uzima matricu s vrha stoga\n",
    "- provjerava je li dohvaćena matrica rješenje\n",
    "- nalazi prvu brojku (1-8) u matrici\n",
    "- na svako prazno polje oko navedene brojke stavlja novčić \n",
    "- dekrementira brojeve oko novčića\n",
    "- deepcopy matrice stavlja na vrh stoga"
   ]
  },
  {
   "cell_type": "code",
   "execution_count": 9,
   "metadata": {},
   "outputs": [],
   "source": [
    "def DFS(matrix: List[List[int]], \n",
    "        visualization: bool = 0,\n",
    "        max_steps: int = 0,\n",
    "        fig = None, axes = None):\n",
    "    \n",
    "    stack = []\n",
    "    first = copy.deepcopy(matrix)\n",
    "    \n",
    "    for x in range(0, len(first)):\n",
    "        for y in range(0, len(first[0])):\n",
    "            if first[x][y] == 0:\n",
    "                move_checked_around_field(first, (x,y))\n",
    "    stack.append(first)\n",
    "    num_steps = -1\n",
    "\n",
    "    while(len(stack)):\n",
    "        mtrx = stack.pop()\n",
    "        num_steps += 1\n",
    "        \n",
    "        if visualization and num_steps <= max_steps:\n",
    "            plt.cla()\n",
    "            clear_output(wait=True)\n",
    "            update_matrix_figure(mtrx, fig, axes, num_steps, max_steps)\n",
    "            display(plt.gcf())\n",
    "            time.sleep(0.25)\n",
    "        \n",
    "        index = get_field_to_decrement(mtrx)\n",
    "        if index == (-1, -1):\n",
    "            for x in range(0, len(mtrx)):\n",
    "                for y in range(0, len(mtrx[x])):\n",
    "                    if mtrx[x][y] == E:\n",
    "                        mtrx[x][y] = CHECKED\n",
    "            return (num_steps, mtrx)\n",
    "        \n",
    "        neighbours = get_neighbour_indexes(index, get_matrix_size(mtrx))\n",
    "        for neighbour in neighbours:\n",
    "            if mtrx[neighbour[0]][neighbour[1]] is E:\n",
    "                to_push = insert_gold_in_matrix(mtrx, neighbour)\n",
    "                if check_if_matrix_correct(mtrx) is False:\n",
    "                    continue\n",
    "                stack.append(copy.deepcopy(to_push))\n",
    "    \n",
    "    print(\"Error, could not solve given matrix\")\n",
    "    return (0, matrix)"
   ]
  },
  {
   "cell_type": "markdown",
   "metadata": {},
   "source": [
    "### BFS\n",
    "\n",
    "\n",
    "BFS algoritam sprema originalnu matricu u red. Za red je korištena **collections.deque** struktura.\n",
    "\n",
    "Dok red nije prazan, BFS algoritam:\n",
    "- uzima matricu s početka reda\n",
    "- provjerava je li dohvaćena matrica rješenje\n",
    "- nalazi prvu brojku (1-8) u matrici\n",
    "- na svako prazno polje oko navedene brojke stavlja novčić\n",
    "- dekrementira brojeve oko novčića\n",
    "- deepcopy matrice stavlja na kraj reda"
   ]
  },
  {
   "cell_type": "code",
   "execution_count": 10,
   "metadata": {},
   "outputs": [],
   "source": [
    "def BFS(matrix: List[List[int]], \n",
    "        visualization: bool = 0,\n",
    "        max_steps: int = 0,\n",
    "        fig = None, axes = None):\n",
    "    \n",
    "    queue = deque([])\n",
    "    first = copy.deepcopy(matrix)\n",
    "    \n",
    "    for x in range(0, len(first)):\n",
    "        for y in range(0, len(first[0])):\n",
    "            if first[x][y] == 0:\n",
    "                move_checked_around_field(first, (x,y))\n",
    "    queue.append(first)\n",
    "    num_steps = -1\n",
    "\n",
    "    while(len(queue)):\n",
    "        mtrx = queue.popleft()\n",
    "        num_steps += 1\n",
    "        \n",
    "        if visualization and num_steps <= max_steps:\n",
    "            plt.cla()\n",
    "            clear_output(wait=True)\n",
    "            update_matrix_figure(mtrx, fig, axes, num_steps, max_steps)\n",
    "            display(plt.gcf())\n",
    "            time.sleep(0.25)\n",
    "        \n",
    "        index = get_field_to_decrement(mtrx)\n",
    "        if index == (-1, -1):\n",
    "            for x in range(0, len(mtrx)):\n",
    "                for y in range(0, len(mtrx[x])):\n",
    "                    if mtrx[x][y] == E:\n",
    "                        mtrx[x][y] = CHECKED\n",
    "            return (num_steps, mtrx)\n",
    "        \n",
    "        neighbours = get_neighbour_indexes(index, get_matrix_size(mtrx))\n",
    "        for neighbour in neighbours:\n",
    "            if mtrx[neighbour[0]][neighbour[1]] is E:\n",
    "                to_push = insert_gold_in_matrix(mtrx, neighbour)\n",
    "                if check_if_matrix_correct(mtrx) is False:\n",
    "                    continue\n",
    "                queue.append(copy.deepcopy(to_push))\n",
    "    \n",
    "    print(\"Error, could not solve given matrix\")\n",
    "    return (0, matrix)"
   ]
  },
  {
   "cell_type": "markdown",
   "metadata": {},
   "source": [
    "### A*\n",
    "\n",
    "\n",
    "A* algoritam sprema originalnu matricu u prioritetni red. Za prioritetni red je korištena **queue.PriorityQueue** struktura.\n",
    "\n",
    "Dok prioritetni red nije prazan, A* algoritam:\n",
    "- uzima matricu s početka prioritetnog reda\n",
    "- provjerava je li dohvaćena matrica rješenje\n",
    "- nalazi prvu brojku (1-8) u matrici\n",
    "- na svako prazno polje oko navedene brojke stavlja novčić\n",
    "- dekrementira brojeve oko novčića\n",
    "- deepcopy matrice stavlja u prioritetni red*\n",
    "\n",
    "\n",
    "\\**Matrica se natrag u prioritetni red šalje u paru s izračunatom procjenom udaljenosti do kraja. Tu procjenu vrši funkcija count_number_sum te se po njoj određuje prioritet matrice u redu. Matrice s najmanjim zbrojem brojeva od 1 do 8 stavljaju se na početak reda. Ovako odabrana heuristika prioritizira matrice u kojima su novčići stavljeni na pozicije između što više brojeva.*"
   ]
  },
  {
   "cell_type": "code",
   "execution_count": 11,
   "metadata": {},
   "outputs": [],
   "source": [
    "def Astar(matrix: List[List[int]], \n",
    "          visualization: bool = 0,\n",
    "          max_steps: int = 0,\n",
    "          fig = None, axes = None):\n",
    "    \n",
    "    queue = PriorityQueue()\n",
    "    first = copy.deepcopy(matrix)\n",
    "    \n",
    "    for x in range(0, len(first)):\n",
    "        for y in range(0, len(first[0])):\n",
    "            if first[x][y] == 0:\n",
    "                move_checked_around_field(first, (x,y))\n",
    "    queue.put((count_number_sum(first), first))\n",
    "    num_steps = -1\n",
    "\n",
    "    while not queue.empty():\n",
    "        (throw, mtrx) = queue.get()\n",
    "        num_steps += 1\n",
    "        \n",
    "        if visualization and num_steps <= max_steps:\n",
    "            plt.cla()\n",
    "            clear_output(wait=True)\n",
    "            update_matrix_figure(mtrx, fig, axes, num_steps, max_steps)\n",
    "            display(plt.gcf())\n",
    "            time.sleep(0.25)\n",
    "        \n",
    "        index = get_field_to_decrement(mtrx)\n",
    "        if index == (-1, -1):\n",
    "            for x in range(0, len(mtrx)):\n",
    "                for y in range(0, len(mtrx[x])):\n",
    "                    if mtrx[x][y] == E:\n",
    "                        mtrx[x][y] = CHECKED\n",
    "            return (num_steps, mtrx)\n",
    "        \n",
    "        neighbours = get_neighbour_indexes(index, get_matrix_size(mtrx))\n",
    "        for neighbour in neighbours:\n",
    "            if mtrx[neighbour[0]][neighbour[1]] is E:\n",
    "                to_push = insert_gold_in_matrix(mtrx, neighbour)\n",
    "                if check_if_matrix_correct(mtrx) is False:\n",
    "                    continue\n",
    "                queue.put((count_number_sum(to_push), copy.deepcopy(to_push)))\n",
    "    \n",
    "    print(\"Error, could not solve given matrix\")\n",
    "    return (0, matrix)"
   ]
  },
  {
   "cell_type": "markdown",
   "metadata": {},
   "source": [
    "## 4. Stablo pretraživanja i brzina algoritama"
   ]
  },
  {
   "cell_type": "markdown",
   "metadata": {},
   "source": [
    "**Stabla pretraživanja, dubina i širina**  \n",
    "Neka je _N_ broj novčića u konačnom rješenju. Tada je (zbog funkcije *check_if_matrix_correct*) maksimalna dubina stabla pretraživanja očito jednaka *N+1*.  \n",
    "Djeca pojedinog čvora stabla dobivaju se pomoću funkcije *get_neighbour_indexes* za prvi pronađeni broj u matrici te izbacivanjem susjednih polja koja nisu prazna. Stoga je širina svake razine stabla manja ili jednaka od 8\\*(*širina prethodne razine stabla*). U stvarnosti, širina je puno manja od navedene.  \n",
    "\n",
    "\n",
    "&nbsp;\n",
    "\n",
    "Razlozi zašto kandidate tražimo putem *get_neighbour_indexes* za prvi pronađeni broj umjesto da stavimo po jedan zlatnik na svako prazno mjesto u matrici:\n",
    "- maksimalno _8\\*(širina prethodne razine stabla)_ čvorova na novoj razini naspram _a\\*(širina prethodne razine stabla)_ čvorova, gdje je *a* jednak broju preostalih praznih polja u matrici\n",
    "- omogućuje rješavanje primjera poput 10x10 matrice sa jednom osmicom u sredini i ostalih 99 polja neispunjeno (stavljanje zlata jedno po jedno na svako mjesto u matrici bi izbacilo matricu s 99 zlata kao konačno rješenje)"
   ]
  },
  {
   "cell_type": "code",
   "execution_count": 12,
   "metadata": {},
   "outputs": [],
   "source": [
    "pr1 = get_matrix_example_one()\n",
    "pr2 = get_matrix_example_two()"
   ]
  },
  {
   "cell_type": "code",
   "execution_count": 13,
   "metadata": {},
   "outputs": [
    {
     "name": "stdout",
     "output_type": "stream",
     "text": [
      "Time to execute pr1 using DFS: 0.89s, number of steps: 5853\n",
      "Time to execute pr2 using DFS: 0.244s, number of steps: 1523\n",
      "\n",
      "Time to execute pr1 using BFS: 4.507s, number of steps: 29546\n",
      "Time to execute pr2 using BFS: 0.425s, number of steps: 2725\n",
      "\n",
      "Time to execute pr1 using Astar: 2.91s, number of steps: 5852\n",
      "Time to execute pr2 using Astar: 0.704s, number of steps: 1195\n",
      "\n",
      "Wall time: 9.68 s\n"
     ]
    }
   ],
   "source": [
    "%%time\n",
    "print_execution_time(DFS, pr1, \"pr1\")\n",
    "print_execution_time(DFS, pr2, \"pr2\")\n",
    "print(divider)\n",
    "print_execution_time(BFS, pr1, \"pr1\")\n",
    "print_execution_time(BFS, pr2, \"pr2\")\n",
    "print(divider)\n",
    "print_execution_time(Astar, pr1, \"pr1\")\n",
    "print_execution_time(Astar, pr2, \"pr2\")\n",
    "print(divider)"
   ]
  },
  {
   "cell_type": "markdown",
   "metadata": {},
   "source": [
    "**Broj koraka i brzina algoritama**\n",
    "\n",
    "Zbog toga što je konačno rješenje na najnižoj razini stabla pretraživanja, BFS će u svakome slučaju trebati više koraka od DFS i A\\*. Ovisno o primjeru, A\\* može imati bolje ili lošije rezultate od DFS algoritma. No, za očekivati je da će naša odabrana heuristika pozitivno utjecati na smanjenje broja koraka u programu, što se na testnim primjerima i pokazalo.\n",
    "\n",
    "&nbsp;\n",
    "\n",
    "Brzina izvršavanja programa ne ovisi samo o broju koraka, nego i o strukturi koju koristimo. U slučajevima u kojima DFSu i A* treba podjednaki broj koraka, DFS će biti brži zbog razlike u brzini između stoga i prioritetnog reda. Iako je običan red brži od prioritetnog, zbog puno većeg broja koraka, BFS će uvijek biti sporiji od DFS i A* algoritama."
   ]
  },
  {
   "cell_type": "markdown",
   "metadata": {},
   "source": [
    "## 5. Vizualizacija rješenja i koraka"
   ]
  },
  {
   "cell_type": "markdown",
   "metadata": {},
   "source": [
    "Uvjeravamo se da naši algoritmi izbacuju točno konačno rješenje:"
   ]
  },
  {
   "cell_type": "code",
   "execution_count": 14,
   "metadata": {},
   "outputs": [
    {
     "data": {
      "image/png": "[encoded data removed]",
      "text/plain": [
       "<Figure size 800x1600 with 8 Axes>"
      ]
     },
     "metadata": {
      "needs_background": "light"
     },
     "output_type": "display_data"
    },
    {
     "name": "stdout",
     "output_type": "stream",
     "text": [
      "Wall time: 32 s\n"
     ]
    }
   ],
   "source": [
    "%%time\n",
    "pr1 = get_matrix_example_one()\n",
    "pr2 = get_matrix_example_two()\n",
    "\n",
    "fig, axes = plt.subplots(4, 2, figsize=(10,20), dpi=80)\n",
    "\n",
    "update_matrix_figure(pr1, fig, axes[0][0])\n",
    "update_matrix_figure(pr2, fig, axes[0][1])\n",
    "\n",
    "update_matrix_figure(with_numbers(DFS(pr1)[1], pr1), fig, axes[1][0])\n",
    "update_matrix_figure(with_numbers(DFS(pr2)[1], pr2), fig, axes[1][1])\n",
    "\n",
    "update_matrix_figure(with_numbers(BFS(pr1)[1], pr1), fig, axes[2][0])\n",
    "update_matrix_figure(with_numbers(BFS(pr2)[1], pr2), fig, axes[2][1])\n",
    "\n",
    "update_matrix_figure(with_numbers(Astar(pr1)[1], pr1), fig, axes[3][0])\n",
    "update_matrix_figure(with_numbers(Astar(pr2)[1], pr2), fig, axes[3][1])\n",
    "\n",
    "axes[0][0].set_title(\"Primjer 1\")\n",
    "axes[0][1].set_title(\"Primjer 2\")\n",
    "\n",
    "axes[1][0].set_title(\"DFS Primjer 1\")\n",
    "axes[1][1].set_title(\"DFS Primjer 2\")\n",
    "\n",
    "axes[2][0].set_title(\"BFS Primjer 1\")\n",
    "axes[2][1].set_title(\"BFS Primjer 2\")\n",
    "\n",
    "axes[3][0].set_title(\"A* Primjer 1\")\n",
    "axes[3][1].set_title(\"A* Primjer 2\")\n",
    "\n",
    "plt.show()"
   ]
  },
  {
   "cell_type": "markdown",
   "metadata": {},
   "source": [
    "### Korak po korak"
   ]
  },
  {
   "cell_type": "markdown",
   "metadata": {},
   "source": [
    "U sljedeće 3 čelije, vizualiziramo DFS, BFS i A* algoritme. Budući da bi vizualizacija više tisuća koraka predugo trajala, pokazujemo rad algoritama samo nad prvih 30 koraka.  \n",
    "\n",
    "&nbsp;\n",
    "\n",
    "**Za pokretanje pojedinog algoritma, korisnik treba promijeniti tip čelije s \"Raw NBConvert\" u \"Code\"**."
   ]
  },
  {
   "cell_type": "markdown",
   "metadata": {},
   "source": [
    "#### DFS"
   ]
  },
  {
   "cell_type": "raw",
   "metadata": {},
   "source": [
    "%%time\n",
    "pr1 = get_matrix_example_one()\n",
    "\n",
    "fig = plt.figure(figsize=(5,5), dpi=80)\n",
    "axes = fig.add_axes([0,0,1,1])\n",
    "\n",
    "throw = DFS(pr1, visualization=1, max_steps=30, fig=fig, axes=axes)\n",
    "plt.close()"
   ]
  },
  {
   "cell_type": "markdown",
   "metadata": {},
   "source": [
    "#### BFS"
   ]
  },
  {
   "cell_type": "raw",
   "metadata": {},
   "source": [
    "%%time\n",
    "pr1 = get_matrix_example_one()\n",
    "\n",
    "fig = plt.figure(figsize=(5,5), dpi=80)\n",
    "axes = fig.add_axes([0,0,1,1])\n",
    "\n",
    "throw = BFS(pr1, visualization=1, max_steps=30, fig=fig, axes=axes)\n",
    "plt.close()"
   ]
  },
  {
   "cell_type": "markdown",
   "metadata": {},
   "source": [
    "#### A*"
   ]
  },
  {
   "cell_type": "raw",
   "metadata": {},
   "source": [
    "%%time\n",
    "pr1 = get_matrix_example_one()\n",
    "\n",
    "fig = plt.figure(figsize=(5,5), dpi=80)\n",
    "axes = fig.add_axes([0,0,1,1])\n",
    "\n",
    "throw = Astar(pr1, visualization=1, max_steps=30, fig=fig, axes=axes)\n",
    "plt.close()"
   ]
  }
 ],
 "metadata": {
  "kernelspec": {
   "display_name": "first",
   "language": "python",
   "name": "first"
  },
  "language_info": {
   "codemirror_mode": {
    "name": "ipython",
    "version": 3
   },
   "file_extension": ".py",
   "mimetype": "text/x-python",
   "name": "python",
   "nbconvert_exporter": "python",
   "pygments_lexer": "ipython3",
   "version": "3.6.10"
  }
 },
 "nbformat": 4,
 "nbformat_minor": 4
}
